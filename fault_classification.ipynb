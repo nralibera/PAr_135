{
 "cells": [
  {
   "cell_type": "markdown",
   "metadata": {
    "id": "view-in-github"
   },
   "source": [
    "<a href=\"https://colab.research.google.com/github/nralibera/PAr_135/blob/main/fault_classification.ipynb\" target=\"_parent\"><img src=\"https://colab.research.google.com/assets/colab-badge.svg\" alt=\"Open In Colab\"/></a>"
   ]
  },
  {
   "cell_type": "code",
   "execution_count": 1,
   "metadata": {},
   "outputs": [],
   "source": [
    "#pip install --upgrade google-api-python-client\n",
    "\n",
    "# Current stable release for CPU and GPU\n",
    "#UNCOMMENT THE LINE BELOW IF TENSORFLOW NOT INSTALLED\n",
    "#!pip install tensorflow\n"
   ]
  },
  {
   "cell_type": "code",
   "execution_count": 2,
   "metadata": {
    "id": "Fae_7zXkm8TW"
   },
   "outputs": [],
   "source": [
    "import numpy as np\n",
    "import random as rd\n",
    "from tqdm import tqdm"
   ]
  },
  {
   "cell_type": "markdown",
   "metadata": {
    "id": "K-k6onlEl2Wp"
   },
   "source": [
    "## **I. Data construction for model training:**\n",
    "We want two arrays: the first `matrix_data` containing the matrices 3D with shape=(n,m,p) and the second `label` containing the faults (permanent or intermittent without distinction) which correspond to the matrices 1D with shape=(p). For example, the matrix `matrix_data(:,:,15)` corresponds to the fault of class `label(15)`."
   ]
  },
  {
   "cell_type": "code",
   "execution_count": 3,
   "metadata": {
    "id": "dSm4y6I07eCC"
   },
   "outputs": [],
   "source": [
    "#Linking drive with the notebook if you use google colab (Put True)\n",
    "google_colab = False\n",
    "if google_colab :\n",
    "    from google.colab import drive\n",
    "    drive.mount('/content/drive')"
   ]
  },
  {
   "cell_type": "code",
   "execution_count": 4,
   "metadata": {
    "id": "voeZC6y17IsQ"
   },
   "outputs": [],
   "source": [
    " #Load Data\n",
    "\n",
    "data=np.load(\"/Users/nanto/OneDrive/Bureau/ECL/Machine Learning/PAr_135/Files/trainset.npz\")\n",
    "\n",
    "x_train = np.moveaxis(data['x_train'],2,0)\n",
    "y_train = data[\"y_train\"]\n",
    "\n",
    "x_test = np.moveaxis(data['x_test'],2,0)\n",
    "y_test = data[\"y_test\"]  \n"
   ]
  },
  {
   "cell_type": "code",
   "execution_count": 14,
   "metadata": {
    "id": "giz-RGBllQAd"
   },
   "outputs": [
    {
     "name": "stdout",
     "output_type": "stream",
     "text": [
      "(131264, 55, 108) (33009, 55, 108)\n"
     ]
    }
   ],
   "source": [
    "print(x_train.shape,x_test.shape)"
   ]
  },
  {
   "cell_type": "markdown",
   "metadata": {
    "id": "SsykyahIPlor"
   },
   "source": [
    "## **II. Data vizualisation:**\n",
    "In this first attempt, we use a neural network especially a Convolutional Neural Network (CNN). This idea comes from the fact that the input matrix `matrix_data` reminds a matrix of a white and black image. Thus, CNN can be a model to handle the problem. "
   ]
  },
  {
   "cell_type": "code",
   "execution_count": 6,
   "metadata": {
    "id": "nwnpSnY2Q501"
   },
   "outputs": [],
   "source": [
    "\n",
    "import tensorflow as tf \n",
    "import matplotlib.pyplot as plt"
   ]
  },
  {
   "cell_type": "code",
   "execution_count": 7,
   "metadata": {
    "id": "B1wi00UWR4uH"
   },
   "outputs": [
    {
     "name": "stdout",
     "output_type": "stream",
     "text": [
      "[ 46278  94334  56571 113933]\n"
     ]
    },
    {
     "data": {
      "image/png": "[encoded data removed]",
      "text/plain": [
       "<Figure size 1440x576 with 4 Axes>"
      ]
     },
     "metadata": {},
     "output_type": "display_data"
    }
   ],
   "source": [
    "plt.figure(figsize=(20,8))\n",
    "random_inds = np.random.choice(x_train.shape[0],4)\n",
    "print(random_inds)\n",
    "for i in range(4):\n",
    "    plt.subplot(2,2,i+1)\n",
    "    plt.xticks([])\n",
    "    plt.yticks([])\n",
    "    plt.grid(False)\n",
    "    image_ind = random_inds[i]\n",
    "    plt.imshow(np.squeeze(x_train[image_ind,:,:]), cmap=plt.cm.binary)\n",
    "    plt.xlabel(y_train[image_ind])\n",
    "\n",
    "#print((x_train[:,:,77535]== x_train[:,:,57107]).all())"
   ]
  },
  {
   "cell_type": "markdown",
   "metadata": {},
   "source": [
    "## **III. First model using a Deep Neural Network**\n",
    "In this case, we flatten the matrix and give it as an input to the neural network with 2 hidden layers."
   ]
  },
  {
   "cell_type": "code",
   "execution_count": 8,
   "metadata": {
    "id": "bnC5vU-RylV1"
   },
   "outputs": [],
   "source": [
    "def build_fc_model():\n",
    "  fc_model = tf.keras.Sequential([\n",
    "      # Flatten layer\n",
    "      tf.keras.layers.Flatten(),\n",
    "\n",
    "      # First fully connected (Dense) layer\n",
    "      tf.keras.layers.Dense(200, activation= 'relu'),\n",
    "      \n",
    "      # Second fully connected (Dense) layer\n",
    "      tf.keras.layers.Dense(200, activation= 'relu'),\n",
    "      \n",
    "      \n",
    "      # Fourth Dense layer to output the classification probabilities\n",
    "      tf.keras.layers.Dense(121, activation= 'softmax')\n",
    "      \n",
    "  ])\n",
    "  return fc_model\n",
    "\n",
    "first_model = build_fc_model()"
   ]
  },
  {
   "cell_type": "code",
   "execution_count": 9,
   "metadata": {},
   "outputs": [],
   "source": [
    "first_model.compile(optimizer=tf.keras.optimizers.SGD(learning_rate=1e-1), \n",
    "              loss='sparse_categorical_crossentropy',\n",
    "              metrics=['accuracy'])"
   ]
  },
  {
   "cell_type": "code",
   "execution_count": 10,
   "metadata": {},
   "outputs": [
    {
     "name": "stdout",
     "output_type": "stream",
     "text": [
      "Epoch 1/3\n",
      "4102/4102 [==============================] - 32s 7ms/step - loss: 4.6786 - accuracy: 0.0181\n",
      "Epoch 2/3\n",
      "4102/4102 [==============================] - 29s 7ms/step - loss: 4.6682 - accuracy: 0.0179\n",
      "Epoch 3/3\n",
      "4102/4102 [==============================] - 28s 7ms/step - loss: 4.6677 - accuracy: 0.0181\n"
     ]
    },
    {
     "data": {
      "text/plain": [
       "<keras.callbacks.History at 0x249045a6400>"
      ]
     },
     "execution_count": 10,
     "metadata": {},
     "output_type": "execute_result"
    }
   ],
   "source": [
    "# Define the batch size and the number of epochs to use during training\n",
    "BATCH_SIZE = 1000\n",
    "EPOCHS = 3\n",
    "\n",
    "first_model.fit(x_train, y_train, epochs=EPOCHS)"
   ]
  },
  {
   "cell_type": "markdown",
   "metadata": {},
   "source": [
    "## **IV. Convolutional Neural Network (CNN):**\n",
    "Here, we use a Convolutional Neural Network (CNN). This idea comes from the fact that the input matrix `matrix_data` reminds a matrix of a white and black image. Thus, CNN can be a model to handle the problem. "
   ]
  },
  {
   "cell_type": "markdown",
   "metadata": {},
   "source": [
    "ADD IMAGE OF THE CNN HERE"
   ]
  },
  {
   "cell_type": "code",
   "execution_count": 11,
   "metadata": {},
   "outputs": [],
   "source": [
    "def build_cnn_model():\n",
    "  cnn_model = tf.keras.Sequential([\n",
    "      \n",
    "        # TODO: Define the first convolutional layer\n",
    "        tf.keras.layers.Conv2D(filters=24,kernel_size=(3,3),activation='relu'), \n",
    "\n",
    "        # TODO: Define the first max pooling layer\n",
    "        tf.keras.layers.MaxPool2D(),\n",
    "\n",
    "        # TODO: Define the second convolutional layer\n",
    "        tf.keras.layers.Conv2D(filters=36,kernel_size=(3,3),activation='relu'),\n",
    "\n",
    "        # TODO: Define the second max pooling layer\n",
    "        tf.keras.layers.MaxPool2D(),\n",
    "\n",
    "        tf.keras.layers.Flatten(),\n",
    "        tf.keras.layers.Dense(150, activation=tf.nn.relu),\n",
    "\n",
    "        # TODO: Define the last Dense layer to output the classification \n",
    "        # probabilities. Pay attention to the activation needed a probability\n",
    "        # output\n",
    "        tf.keras.layers.Dense(121, activation='softmax')\n",
    "  ])\n",
    "  return cnn_model\n",
    "\n",
    "cnn_model = build_cnn_model()"
   ]
  },
  {
   "cell_type": "code",
   "execution_count": 12,
   "metadata": {},
   "outputs": [],
   "source": [
    "cnn_model.compile(optimizer=tf.keras.optimizers.SGD(learning_rate=1e-1), \n",
    "              loss='sparse_categorical_crossentropy',\n",
    "              metrics=['accuracy'])"
   ]
  },
  {
   "cell_type": "code",
   "execution_count": 13,
   "metadata": {},
   "outputs": [
    {
     "name": "stdout",
     "output_type": "stream",
     "text": [
      "(131264, 55, 108, 1)\n",
      "Epoch 1/3\n",
      "4102/4102 [==============================] - 439s 106ms/step - loss: 2.8489 - accuracy: 0.2826\n",
      "Epoch 2/3\n",
      "4102/4102 [==============================] - 343s 84ms/step - loss: 0.7291 - accuracy: 0.7645\n",
      "Epoch 3/3\n",
      "4102/4102 [==============================] - 339s 83ms/step - loss: 0.3411 - accuracy: 0.8851\n"
     ]
    },
    {
     "data": {
      "text/plain": [
       "<keras.callbacks.History at 0x24904950c40>"
      ]
     },
     "execution_count": 13,
     "metadata": {},
     "output_type": "execute_result"
    }
   ],
   "source": [
    "# Define the batch size and the number of epochs to use during training\n",
    "BATCH_SIZE = 1000\n",
    "EPOCHS = 3\n",
    "X_train = x_train.reshape(131264, 55, 108,1)\n",
    "print(X_train.shape)\n",
    "cnn_model.fit(X_train.astype(np.float32), y_train.astype(np.float32), epochs=EPOCHS)"
   ]
  },
  {
   "cell_type": "code",
   "execution_count": 15,
   "metadata": {},
   "outputs": [
    {
     "name": "stdout",
     "output_type": "stream",
     "text": [
      "1032/1032 [==============================] - 25s 23ms/step - loss: 0.2953 - accuracy: 0.8978\n",
      "Test accuracy: 0.8977551460266113\n"
     ]
    }
   ],
   "source": [
    "X_test = x_test.reshape(33009, 55, 108,1)\n",
    "test_loss, test_acc = cnn_model.evaluate(X_test.astype(np.float32),y_test)\n",
    "\n",
    "print('Test accuracy:', test_acc)"
   ]
  },
  {
   "cell_type": "code",
   "execution_count": 16,
   "metadata": {},
   "outputs": [],
   "source": [
    "predictions = cnn_model.predict(X_test.astype(np.float32))"
   ]
  },
  {
   "cell_type": "code",
   "execution_count": 29,
   "metadata": {},
   "outputs": [
    {
     "name": "stdout",
     "output_type": "stream",
     "text": [
      "Class of fault is 98 with a probability of 0.9939097\n"
     ]
    }
   ],
   "source": [
    "index = 24565\n",
    "prediction = max(predictions[index])\n",
    "fault_class = np.argmax(predictions[index])\n",
    "print(\"Class of fault is \"+str(fault_class)+\" with a probability of \"+str(prediction))"
   ]
  },
  {
   "cell_type": "code",
   "execution_count": 30,
   "metadata": {},
   "outputs": [
    {
     "name": "stdout",
     "output_type": "stream",
     "text": [
      "Label of this digit is: 98\n"
     ]
    },
    {
     "data": {
      "text/plain": [
       "<matplotlib.image.AxesImage at 0x2490abcd250>"
      ]
     },
     "execution_count": 30,
     "metadata": {},
     "output_type": "execute_result"
    },
    {
     "data": {
      "image/png": "[encoded data removed]",
      "text/plain": [
       "<Figure size 432x288 with 1 Axes>"
      ]
     },
     "metadata": {
      "needs_background": "light"
     },
     "output_type": "display_data"
    }
   ],
   "source": [
    "print(\"Label of this digit is:\", y_test[index])\n",
    "plt.imshow(X_test[index,:,:,0], cmap=plt.cm.binary)"
   ]
  }
 ],
 "metadata": {
  "accelerator": "GPU",
  "colab": {
   "collapsed_sections": [],
   "name": "fault_classification.ipynb",
   "private_outputs": true,
   "provenance": []
  },
  "kernelspec": {
   "display_name": "Python 3",
   "language": "python",
   "name": "python3"
  },
  "language_info": {
   "codemirror_mode": {
    "name": "ipython",
    "version": 3
   },
   "file_extension": ".py",
   "mimetype": "text/x-python",
   "name": "python",
   "nbconvert_exporter": "python",
   "pygments_lexer": "ipython3",
   "version": "3.8.5"
  },
  "latex_envs": {
   "LaTeX_envs_menu_present": true,
   "autoclose": false,
   "autocomplete": true,
   "bibliofile": "biblio.bib",
   "cite_by": "apalike",
   "current_citInitial": 1,
   "eqLabelWithNumbers": true,
   "eqNumInitial": 1,
   "hotkeys": {
    "equation": "Ctrl-E",
    "itemize": "Ctrl-I"
   },
   "labels_anchors": false,
   "latex_user_defs": false,
   "report_style_numbering": false,
   "user_envs_cfg": false
  },
  "toc": {
   "base_numbering": 1,
   "nav_menu": {},
   "number_sections": true,
   "sideBar": true,
   "skip_h1_title": false,
   "title_cell": "Table of Contents",
   "title_sidebar": "Contents",
   "toc_cell": false,
   "toc_position": {},
   "toc_section_display": true,
   "toc_window_display": false
  }
 },
 "nbformat": 4,
 "nbformat_minor": 1
}
