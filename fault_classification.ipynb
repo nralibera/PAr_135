{
  "nbformat": 4,
  "nbformat_minor": 0,
  "metadata": {
    "colab": {
      "name": "fault_classification.ipynb",
      "provenance": [],
      "collapsed_sections": []
    },
    "kernelspec": {
      "name": "python3",
      "display_name": "Python 3"
    },
    "language_info": {
      "name": "python"
    }
  },
  "cells": [
    {
      "cell_type": "markdown",
      "metadata": {
        "id": "view-in-github"
      },
      "source": [
        "<a href=\"https://colab.research.google.com/github/nralibera/PAr_135/blob/main/fault_classification.ipynb\" target=\"_parent\"><img src=\"https://colab.research.google.com/assets/colab-badge.svg\" alt=\"Open In Colab\"/></a>"
      ]
    },
    {
      "cell_type": "code",
      "metadata": {
        "id": "Fae_7zXkm8TW"
      },
      "source": [
        "import numpy as np\n",
        "import random as rd\n",
        "from tqdm import tqdm\n"
      ],
      "execution_count": 1,
      "outputs": []
    },
    {
      "cell_type": "markdown",
      "metadata": {
        "id": "G8g0OlM8nCcG"
      },
      "source": [
        "## **I. Préparation des outils pour générer les données**\n",
        "On a besoin de quelques fonctions afin de générer le tableau contenant les données d'entrainement du modèle. On souhaite notemment deux tableaux: le premier `matrix_data` contenant les matrices (3D avec shape=(n,m,p)) et le deuxième `label` contenant les fautes qui correspondent aux matrices (1D avec shape=(p)). Par exemple, la matrice `matrix_data(:,:,15)` correspond à la faute de type `label(15)`."
      ]
    },
    {
      "cell_type": "code",
      "metadata": {
        "colab": {
          "base_uri": "https://localhost:8080/"
        },
        "id": "dSm4y6I07eCC",
        "outputId": "15d42e9e-d36e-4711-e0bb-497db94f4119"
      },
      "source": [
        "from google.colab import drive\n",
        "drive.mount('/content/drive')"
      ],
      "execution_count": 2,
      "outputs": [
        {
          "output_type": "stream",
          "name": "stdout",
          "text": [
            "Mounted at /content/drive\n"
          ]
        }
      ]
    },
    {
      "cell_type": "code",
      "metadata": {
        "id": "oxsEJC2lj_fs"
      },
      "source": [
        "x_size_matrix=55\n",
        "y_size_matrix=108 \n",
        "def build_matrix(matrix_line):\n",
        "    matrix_line= [x.replace('\\n','' ) for x in matrix_line] \n",
        "    matrix = np.array([[int(i) for i in x] for x in matrix_line])\n",
        "    matrix= np.reshape(matrix,(x_size_matrix,y_size_matrix,1))\n",
        "    return matrix"
      ],
      "execution_count": null,
      "outputs": []
    },
    {
      "cell_type": "code",
      "metadata": {
        "id": "4ecJHdgVkE3S"
      },
      "source": [
        "def build_data (filename,fault_list):\n",
        "    matrix_file= open(\"/content/drive/My Drive/PAR/\"+filename,\"r\")\n",
        "    matrix_lines = matrix_file.readlines()\n",
        "    matrix_file.close()\n",
        "    \n",
        "    matrix_lines = [line.replace(\"\\n\",\"\") for line in matrix_lines]\n",
        "    \n",
        "    \n",
        "    #initialisation\n",
        "    matrix_data = build_matrix(matrix_lines[1:56])\n",
        "    label_data = np.array([fault_list.index(matrix_lines[0])])\n",
        "    \n",
        "    for i in tqdm(range(56,len(matrix_lines),56)):\n",
        "        label_data = np.concatenate([label_data,np.array([fault_list.index(matrix_lines[i])])])\n",
        "        matrix = build_matrix(matrix_lines[i+1:i+56])\n",
        "        matrix_data=np.concatenate([matrix_data,matrix],axis=2)\n",
        "    \n",
        "    return matrix_data,label_data"
      ],
      "execution_count": null,
      "outputs": []
    },
    {
      "cell_type": "markdown",
      "metadata": {
        "id": "K-k6onlEl2Wp"
      },
      "source": [
        "## **II. Contructions des données pour l'entrainement du modèle :**\n",
        "Dans cette partie, nous allons construire les tableaux de données avec les fonctions définies ci-dessus. Nous allons, dans un premier tableau, construire la base de données avec les matrices des fautes permanentes ainsi que les fautes intermittentes. Le deuxième tableau contiendra les labels de chaque matrice."
      ]
    },
    {
      "cell_type": "code",
      "metadata": {
        "id": "Van5VRVEpIO2"
      },
      "source": [
        "#building the right_matrix (in txt format)\n",
        "right_matrix_file=open('/content/drive/My Drive/PAR/right_matrix.txt',\"r\")\n",
        "right_matrix = build_matrix(right_matrix_file.readlines())\n",
        "right_matrix_file.close()"
      ],
      "execution_count": null,
      "outputs": []
    },
    {
      "cell_type": "code",
      "metadata": {
        "id": "CZ9Y-Ou4pXIi",
        "colab": {
          "base_uri": "https://localhost:8080/"
        },
        "outputId": "fc8f4e55-6cd5-4886-c2ab-f9d651077cc4"
      },
      "source": [
        "#building permanent_fault(in txt format)\n",
        "fault_list_file = open('/content/drive/My Drive/PAR/fault_matrix_file2.txt',\"r\")\n",
        "fault_list=fault_list_file.readlines()\n",
        "fault_list_file.close()\n",
        "fault_list = [fault_list[i].replace(\"\\n\",\"\") for i in range(0,len(fault_list),56)]\n",
        "permanent_fault_matrix,permanent_fault_label= build_data(\"fault_matrix_file2.txt\",fault_list)"
      ],
      "execution_count": null,
      "outputs": [
        {
          "output_type": "stream",
          "name": "stderr",
          "text": [
            "100%|██████████| 3608/3608 [01:43<00:00, 34.84it/s]\n"
          ]
        }
      ]
    },
    {
      "cell_type": "code",
      "metadata": {
        "colab": {
          "base_uri": "https://localhost:8080/"
        },
        "id": "-PlOon1h8cfI",
        "outputId": "d1769195-7b40-448d-b478-9c6e25ff6945"
      },
      "source": [
        "#building intermittent_fault matrix (in txt format)\n",
        "print((intermittent_fault1_label))\n",
        "fault_list_file2 = open('/content/drive/My Drive/PAR/equivalent_fault.txt',\"r\")\n",
        "fault_list2=fault_list_file2.readlines()\n",
        "fault_list_file2.close()\n",
        "fault_list2 = [i.replace(\"\\n\",\"\") for i in fault_list2]\n",
        "\n",
        "#intermittent_fault1_matrix,intermittent_fault1_label = build_data(\"intermittent_fault.txt\",fault_list2)\n",
        "#intermittent_fault2_matrix,intermittent_fault2_label = build_data(\"intermittent_fault2.txt\",fault_list2)\n"
      ],
      "execution_count": null,
      "outputs": [
        {
          "output_type": "stream",
          "name": "stdout",
          "text": [
            "[   0    0    0 ... 1367 1367 1367]\n"
          ]
        }
      ]
    },
    {
      "cell_type": "code",
      "metadata": {
        "id": "voeZC6y17IsQ",
        "colab": {
          "base_uri": "https://localhost:8080/",
          "height": 374
        },
        "outputId": "5fcd8571-13f1-44d4-92ac-e7defdb127d9"
      },
      "source": [
        "#Concatenating all faults in one matrix and label\n",
        "nb_array=3609\n",
        "matrix_file=np.load('/content/drive/My Drive/PAR/intermittent_fault_file_compressed/intermittent_fault_array0.npz')\n",
        "matrix_all_faults=matrix_file['matrix']\n",
        "labels_all_faults=matrix_file['label']\n",
        "for k in range(1,nb_array):\n",
        "  compressed_file_name=\"intermittent_fault_array\"+str(k)\n",
        "  matrix_file= np.load(\"/content/drive/My Drive/PAR/intermittent_fault_file_compressed/\"+compressed_file_name+ \".npz\")\n",
        "  matrix_fault_i=matrix_file['matrix']\n",
        "  matrix_label_i=matrix_file['label']\n",
        "  matrix_all_faults = np.concatenate([matrix_all_faults,matrix_fault_i],axis=2)\n",
        "  labels_all_faults = np.concatenate([labels_all_faults,matrix_label_i])\n",
        "npz.savez_compressed(matrix_all_faults_compressed,matrix=matrix_all_faults,label=labels_all_faults)"
      ],
      "execution_count": 7,
      "outputs": [
        {
          "output_type": "error",
          "ename": "FileNotFoundError",
          "evalue": "ignored",
          "traceback": [
            "\u001b[0;31m---------------------------------------------------------------------------\u001b[0m",
            "\u001b[0;31mFileNotFoundError\u001b[0m                         Traceback (most recent call last)",
            "\u001b[0;32m<ipython-input-7-3843b1b9b902>\u001b[0m in \u001b[0;36m<module>\u001b[0;34m()\u001b[0m\n\u001b[1;32m      6\u001b[0m \u001b[0;32mfor\u001b[0m \u001b[0mk\u001b[0m \u001b[0;32min\u001b[0m \u001b[0mrange\u001b[0m\u001b[0;34m(\u001b[0m\u001b[0;36m1\u001b[0m\u001b[0;34m,\u001b[0m\u001b[0mnb_array\u001b[0m\u001b[0;34m)\u001b[0m\u001b[0;34m:\u001b[0m\u001b[0;34m\u001b[0m\u001b[0;34m\u001b[0m\u001b[0m\n\u001b[1;32m      7\u001b[0m   \u001b[0mcompressed_file_name\u001b[0m\u001b[0;34m=\u001b[0m\u001b[0;34m\"intermittent_fault_array\"\u001b[0m\u001b[0;34m+\u001b[0m\u001b[0mstr\u001b[0m\u001b[0;34m(\u001b[0m\u001b[0mk\u001b[0m\u001b[0;34m)\u001b[0m\u001b[0;34m\u001b[0m\u001b[0;34m\u001b[0m\u001b[0m\n\u001b[0;32m----> 8\u001b[0;31m   \u001b[0mmatrix_file\u001b[0m\u001b[0;34m=\u001b[0m \u001b[0mnp\u001b[0m\u001b[0;34m.\u001b[0m\u001b[0mload\u001b[0m\u001b[0;34m(\u001b[0m\u001b[0;34m\"/content/drive/My Drive/PAR/intermittent_fault_file_compressed/\"\u001b[0m\u001b[0;34m+\u001b[0m\u001b[0mcompressed_file_name\u001b[0m\u001b[0;34m+\u001b[0m \u001b[0;34m\".npz\"\u001b[0m\u001b[0;34m)\u001b[0m\u001b[0;34m\u001b[0m\u001b[0;34m\u001b[0m\u001b[0m\n\u001b[0m\u001b[1;32m      9\u001b[0m   \u001b[0mmatrix_fault_i\u001b[0m\u001b[0;34m=\u001b[0m\u001b[0mmatrix_file\u001b[0m\u001b[0;34m[\u001b[0m\u001b[0;34m'matrix'\u001b[0m\u001b[0;34m]\u001b[0m\u001b[0;34m\u001b[0m\u001b[0;34m\u001b[0m\u001b[0m\n\u001b[1;32m     10\u001b[0m   \u001b[0mmatrix_label_i\u001b[0m\u001b[0;34m=\u001b[0m\u001b[0mmatrix_file\u001b[0m\u001b[0;34m[\u001b[0m\u001b[0;34m'label'\u001b[0m\u001b[0;34m]\u001b[0m\u001b[0;34m\u001b[0m\u001b[0;34m\u001b[0m\u001b[0m\n",
            "\u001b[0;32m/usr/local/lib/python3.7/dist-packages/numpy/lib/npyio.py\u001b[0m in \u001b[0;36mload\u001b[0;34m(file, mmap_mode, allow_pickle, fix_imports, encoding)\u001b[0m\n\u001b[1;32m    414\u001b[0m             \u001b[0mown_fid\u001b[0m \u001b[0;34m=\u001b[0m \u001b[0;32mFalse\u001b[0m\u001b[0;34m\u001b[0m\u001b[0;34m\u001b[0m\u001b[0m\n\u001b[1;32m    415\u001b[0m         \u001b[0;32melse\u001b[0m\u001b[0;34m:\u001b[0m\u001b[0;34m\u001b[0m\u001b[0;34m\u001b[0m\u001b[0m\n\u001b[0;32m--> 416\u001b[0;31m             \u001b[0mfid\u001b[0m \u001b[0;34m=\u001b[0m \u001b[0mstack\u001b[0m\u001b[0;34m.\u001b[0m\u001b[0menter_context\u001b[0m\u001b[0;34m(\u001b[0m\u001b[0mopen\u001b[0m\u001b[0;34m(\u001b[0m\u001b[0mos_fspath\u001b[0m\u001b[0;34m(\u001b[0m\u001b[0mfile\u001b[0m\u001b[0;34m)\u001b[0m\u001b[0;34m,\u001b[0m \u001b[0;34m\"rb\"\u001b[0m\u001b[0;34m)\u001b[0m\u001b[0;34m)\u001b[0m\u001b[0;34m\u001b[0m\u001b[0;34m\u001b[0m\u001b[0m\n\u001b[0m\u001b[1;32m    417\u001b[0m             \u001b[0mown_fid\u001b[0m \u001b[0;34m=\u001b[0m \u001b[0;32mTrue\u001b[0m\u001b[0;34m\u001b[0m\u001b[0;34m\u001b[0m\u001b[0m\n\u001b[1;32m    418\u001b[0m \u001b[0;34m\u001b[0m\u001b[0m\n",
            "\u001b[0;31mFileNotFoundError\u001b[0m: [Errno 2] No such file or directory: '/content/drive/My Drive/PAR/intermittent_fault_file_compressed/intermittent_fault_array3.npz'"
          ]
        }
      ]
    }
  ]
}