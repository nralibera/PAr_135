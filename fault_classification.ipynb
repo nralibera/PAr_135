{
  "nbformat": 4,
  "nbformat_minor": 0,
  "metadata": {
    "colab": {
      "name": "fault_classification.ipynb",
      "private_outputs": true,
      "provenance": [],
      "collapsed_sections": []
    },
    "kernelspec": {
      "name": "python3",
      "display_name": "Python 3"
    },
    "language_info": {
      "name": "python"
    },
    "accelerator": "GPU"
  },
  "cells": [
    {
      "cell_type": "markdown",
      "metadata": {
        "id": "view-in-github"
      },
      "source": [
        "<a href=\"https://colab.research.google.com/github/nralibera/PAr_135/blob/main/fault_classification.ipynb\" target=\"_parent\"><img src=\"https://colab.research.google.com/assets/colab-badge.svg\" alt=\"Open In Colab\"/></a>"
      ]
    },
    {
      "cell_type": "code",
      "metadata": {
        "id": "Fae_7zXkm8TW"
      },
      "source": [
        "import numpy as np\n",
        "import random as rd\n",
        "from tqdm import tqdm\n"
      ],
      "execution_count": null,
      "outputs": []
    },
    {
      "cell_type": "markdown",
      "metadata": {
        "id": "K-k6onlEl2Wp"
      },
      "source": [
        "## **I. Data construction for model training:**\n",
        "We want two arrays: the first `matrix_data` containing the matrices 3D with shape=(n,m,p) and the second `label` containing the faults (permanent or intermittent without distinction) which correspond to the matrices 1D with shape=(p). For example, the matrix `matrix_data(:,:,15)` corresponds to the fault of class `label(15)`."
      ]
    },
    {
      "cell_type": "code",
      "metadata": {
        "id": "dSm4y6I07eCC"
      },
      "source": [
        "#Linking drive with the notebook\n",
        "from google.colab import drive\n",
        "drive.mount('/content/drive')"
      ],
      "execution_count": null,
      "outputs": []
    },
    {
      "cell_type": "code",
      "metadata": {
        "id": "voeZC6y17IsQ"
      },
      "source": [
        "#Concatenating all faults in one matrix and label\n",
        "\n",
        "matrix_list =[]\n",
        "label_list = []\n",
        "\n",
        "data=np.load(\"/content/drive/My Drive/PAR/data.npz\")\n",
        "\n",
        "matrix_data = data['matrix']\n",
        "label = data[\"label\"]"
      ],
      "execution_count": null,
      "outputs": []
    },
    {
      "cell_type": "markdown",
      "metadata": {
        "id": "SsykyahIPlor"
      },
      "source": [
        "## **II. Convolutional Neural Network (CNN):**\n",
        "In this first attempt, we use a neural network especially a Convolutional Neural Network (CNN). This idea comes from the fact that the input matrix `matrix_data` reminds a matrix of a white and black image. Thus, CNN can be a model to handle the problem. \n",
        "\n",
        " "
      ]
    },
    {
      "cell_type": "code",
      "metadata": {
        "id": "nwnpSnY2Q501"
      },
      "source": [
        "%tensorflow_version 2.x\n",
        "import tensorflow as tf \n",
        "import matplotlib.pyplot as plt\n",
        "\n",
        "# Check that we are using a GPU, if not switch runtimes\n",
        "#   using Runtime > Change Runtime Type > GPU\n",
        "assert len(tf.config.list_physical_devices('GPU')) > 0"
      ],
      "execution_count": null,
      "outputs": []
    },
    {
      "cell_type": "code",
      "metadata": {
        "id": "B1wi00UWR4uH"
      },
      "source": [
        "plt.figure(figsize=(20,8))\n",
        "random_inds = np.random.choice(matrix_data.shape[2],4)\n",
        "print(random_inds)\n",
        "for i in range(4):\n",
        "    plt.subplot(2,2,i+1)\n",
        "    plt.xticks([])\n",
        "    plt.yticks([])\n",
        "    plt.grid(False)\n",
        "    image_ind = random_inds[i]\n",
        "    plt.imshow(np.squeeze(matrix_data[:,:,image_ind]), cmap=plt.cm.binary)\n",
        "    plt.xlabel(label[image_ind])"
      ],
      "execution_count": null,
      "outputs": []
    },
    {
      "cell_type": "code",
      "metadata": {
        "id": "laSX_rUOc_2H"
      },
      "source": [
        "label[117657]\n",
        "(matrix_data[:,:,117657]==matrix_data[:,:,73618]).all()"
      ],
      "execution_count": null,
      "outputs": []
    }
  ]
}