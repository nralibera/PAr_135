{
  "nbformat": 4,
  "nbformat_minor": 0,
  "metadata": {
    "colab": {
      "name": "fault_classification.ipynb",
      "provenance": [],
      "collapsed_sections": [],
      "authorship_tag": "ABX9TyO2P7kcsf/FJtw90WJHcgbl",
      "include_colab_link": true
    },
    "kernelspec": {
      "name": "python3",
      "display_name": "Python 3"
    },
    "language_info": {
      "name": "python"
    }
  },
  "cells": [
    {
      "cell_type": "markdown",
      "metadata": {
        "id": "view-in-github",
        "colab_type": "text"
      },
      "source": [
        "<a href=\"https://colab.research.google.com/github/nralibera/PAr_135/blob/main/fault_classification.ipynb\" target=\"_parent\"><img src=\"https://colab.research.google.com/assets/colab-badge.svg\" alt=\"Open In Colab\"/></a>"
      ]
    },
    {
      "cell_type": "code",
      "metadata": {
        "id": "Fae_7zXkm8TW"
      },
      "source": [
        "import numpy as np\n",
        "import random as rd\n",
        "from tqdm import tqdm\n"
      ],
      "execution_count": null,
      "outputs": []
    },
    {
      "cell_type": "markdown",
      "metadata": {
        "id": "G8g0OlM8nCcG"
      },
      "source": [
        "## **I. Préparation des outils pour générer les données**\n",
        "On a besoin de quelques fonctions afin de générer le tableau contenant les données d'entrainement du modèle. On souhaite notemment deux tableaux: le premier `matrix_data` contenant les matrices (3D avec shape=(n,m,p)) et le deuxième `labels` contenant les fautes qui correspondent aux matrices (1D avec shape=(p)). Par exemple, la matrice `matrix_data(:,:,15)` correspond à la faute de type `labels(15)`."
      ]
    },
    {
      "cell_type": "code",
      "metadata": {
        "colab": {
          "base_uri": "https://localhost:8080/"
        },
        "id": "dSm4y6I07eCC",
        "outputId": "862bbfda-826d-48df-9bc2-e8e05c0ab80f"
      },
      "source": [
        "from google.colab import drive\n",
        "drive.mount('/content/drive')"
      ],
      "execution_count": null,
      "outputs": [
        {
          "output_type": "stream",
          "name": "stdout",
          "text": [
            "Drive already mounted at /content/drive; to attempt to forcibly remount, call drive.mount(\"/content/drive\", force_remount=True).\n"
          ]
        }
      ]
    },
    {
      "cell_type": "code",
      "metadata": {
        "id": "oxsEJC2lj_fs"
      },
      "source": [
        "def build_matrix(matrix_line):\n",
        "    matrix_line= [x.replace('\\n','' ) for x in matrix_line] \n",
        "    matrix = np.array([[int(i) for i in x] for x in matrix_line])\n",
        "    matrix= np.reshape(matrix,(55,108,1))\n",
        "    return matrix"
      ],
      "execution_count": null,
      "outputs": []
    },
    {
      "cell_type": "code",
      "metadata": {
        "id": "4ecJHdgVkE3S"
      },
      "source": [
        "def build_data (filename):\n",
        "    matrix_file= open(\"/content/drive/My Drive/PAR/\"+filename,\"r\")\n",
        "    matrix_lines = matrix_file.readlines()\n",
        "    matrix_file.close()\n",
        "    \n",
        "    matrix_lines = [line.replace(\"\\n\",\"\") for line in matrix_lines]\n",
        "    \n",
        "    \n",
        "    #initialisation\n",
        "    list_fault=[matrix_lines[0]]\n",
        "    matrix_data = build_matrix(matrix_lines[1:56])\n",
        "    label_data = np.array([0])\n",
        "    \n",
        "    for i in tqdm(range(56,len(matrix_lines),56)):\n",
        "        label_data = np.concatenate([label_data,np.array([i//56])])\n",
        "        list_fault.append(matrix_lines[i])\n",
        "        \n",
        "        matrix=build_matrix(matrix_lines[i+1:i+56])\n",
        "        matrix_data=np.concatenate([matrix_data,matrix],axis=2)\n",
        "    \n",
        "    return matrix_data,label_data,list_fault"
      ],
      "execution_count": null,
      "outputs": []
    },
    {
      "cell_type": "code",
      "metadata": {
        "id": "lK9IIawakQum"
      },
      "source": [
        "def build_intermittent_fault(right_matrix,matrix_data,label,activation_rate,nb_of_intermittent_fault):\n",
        "    #building intermitent fault\n",
        "    activation_rate = 0.85 #85% des vecteurs de la faute permanente restent intacts le reste est remplacés\n",
        "    nb_of_intermittent_fault=50\n",
        "    for i in tqdm(range(matrix_data.shape[2])):\n",
        "        faulty_line=[]\n",
        "        matrix_copy= np.copy(matrix_data[:,:,i])\n",
        "        matrix_copy= np.reshape(matrix_copy,(55,108,1))\n",
        "        for j in range(matrix_data.shape[0]): #get the faulty lines\n",
        "            for k in range(108):\n",
        "                if  matrix_copy[j,k,0] != right_matrix[j,k,0]:\n",
        "                    faulty_line.append(j)\n",
        "                    break\n",
        "                \n",
        "        #change faulty line\n",
        "        list_of_sample =[]\n",
        "        for index in range(nb_of_intermittent_fault):\n",
        "            nb_of_vect_to_change=int((1-activation_rate)*len(faulty_line))\n",
        "            \n",
        "            sample = rd.sample(faulty_line,nb_of_vect_to_change)\n",
        "            \n",
        "            \n",
        "            if sample not in list_of_sample:\n",
        "                list_of_sample.append(sample) \n",
        "    \n",
        "        \n",
        "        for elem1 in list_of_sample:\n",
        "            for elem2 in range(len(elem1)):\n",
        "                matrix_copy[elem1[elem2],:,0] = right_matrix[elem1[elem2],:,0]\n",
        "            #write_matrix_in_a_file(matrix_copy,\"intermittent_fault.txt\")\n",
        "            label=np.concatenate([label,np.array([i])])\n",
        "            matrix_data=np.concatenate([matrix_data,matrix_copy],axis=2)\n",
        "    return matrix_data,label"
      ],
      "execution_count": null,
      "outputs": []
    },
    {
      "cell_type": "markdown",
      "metadata": {
        "id": "K-k6onlEl2Wp"
      },
      "source": [
        "## **II. Contructions des données pour l'entrainement du modèle :**\n",
        "Dans cette partie, nous allons construire les tableaux de données avec les fonctions définies ci-dessus. Nous allons ,dans un premier tableau, construire la base de données avec les matrices des fautes permanentes ainsi que les fautes intermittentes. Le deuxième tableau contiendra les labels de chaque matrice."
      ]
    },
    {
      "cell_type": "code",
      "metadata": {
        "id": "Van5VRVEpIO2"
      },
      "source": [
        "#building the right_matrix\n",
        "right_matrix_file=open('/content/drive/My Drive/PAR/right_matrix.txt',\"r\")\n",
        "right_matrix = build_matrix(right_matrix_file.readlines())\n",
        "right_matrix_file.close()"
      ],
      "execution_count": null,
      "outputs": []
    },
    {
      "cell_type": "code",
      "metadata": {
        "colab": {
          "base_uri": "https://localhost:8080/"
        },
        "id": "CZ9Y-Ou4pXIi",
        "outputId": "57519d56-951d-42df-cdd7-bfc8bc107250"
      },
      "source": [
        "#building permanent_fault\n",
        "matrix_data,label,list_fault = build_data(\"fault_matrix_file2.txt\")\n"
      ],
      "execution_count": null,
      "outputs": [
        {
          "output_type": "stream",
          "name": "stderr",
          "text": [
            "100%|██████████| 3608/3608 [01:44<00:00, 34.55it/s]\n"
          ]
        }
      ]
    },
    {
      "cell_type": "code",
      "metadata": {
        "colab": {
          "base_uri": "https://localhost:8080/"
        },
        "id": "-PlOon1h8cfI",
        "outputId": "d96f591a-a877-466d-fbd9-3f915b7d8b63"
      },
      "source": [
        "#building intermittent_fault\n",
        "activation_rate = 0.85\n",
        "nb_of_intermittent_fault = 50\n",
        "matrix_data,labels = build_intermittent_fault(right_matrix,matrix_data,label,activation_rate,nb_of_intermittent_fault)"
      ],
      "execution_count": null,
      "outputs": [
        {
          "output_type": "stream",
          "name": "stderr",
          "text": [
            " 18%|█▊        | 661/3609 [22:45<3:07:57,  3.83s/it]"
          ]
        }
      ]
    }
  ]
}