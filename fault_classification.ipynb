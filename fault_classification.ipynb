{
  "nbformat": 4,
  "nbformat_minor": 0,
  "metadata": {
    "colab": {
      "name": "fault_classification.ipynb",
      "provenance": [],
      "collapsed_sections": [],
      "authorship_tag": "ABX9TyM5dBMUzYUkQu6oaHarJ+qe",
      "include_colab_link": true
    },
    "kernelspec": {
      "name": "python3",
      "display_name": "Python 3"
    },
    "language_info": {
      "name": "python"
    }
  },
  "cells": [
    {
      "cell_type": "markdown",
      "metadata": {
        "id": "view-in-github",
        "colab_type": "text"
      },
      "source": [
        "<a href=\"https://colab.research.google.com/github/nralibera/PAr_135/blob/main/fault_classification.ipynb\" target=\"_parent\"><img src=\"https://colab.research.google.com/assets/colab-badge.svg\" alt=\"Open In Colab\"/></a>"
      ]
    },
    {
      "cell_type": "code",
      "metadata": {
        "id": "Fae_7zXkm8TW"
      },
      "source": [
        "import numpy as np\n",
        "import random as rd\n",
        "from tqdm import tqdm\n"
      ],
      "execution_count": 17,
      "outputs": []
    },
    {
      "cell_type": "markdown",
      "metadata": {
        "id": "G8g0OlM8nCcG"
      },
      "source": [
        "## **I. Préparation des outils pour générer les données**\n",
        "On a besoin de quelques fonctions afin de générer le tableau contenant les données d'entrainement du modèle. On souhaite notemment deux tableaux: le premier `matrix_data` contenant les matrices (3D avec shape=(n,m,p)) et le deuxième `label` contenant les fautes qui correspondent aux matrices (1D avec shape=(p)). Par exemple, la matrice `matrix_data(:,:,15)` correspond à la faute de type `label(15)`."
      ]
    },
    {
      "cell_type": "code",
      "metadata": {
        "colab": {
          "base_uri": "https://localhost:8080/"
        },
        "id": "dSm4y6I07eCC",
        "outputId": "4c570402-5f6d-4337-c2d2-68196cc4a430"
      },
      "source": [
        "from google.colab import drive\n",
        "drive.mount('/content/drive')"
      ],
      "execution_count": 18,
      "outputs": [
        {
          "output_type": "stream",
          "name": "stdout",
          "text": [
            "Drive already mounted at /content/drive; to attempt to forcibly remount, call drive.mount(\"/content/drive\", force_remount=True).\n"
          ]
        }
      ]
    },
    {
      "cell_type": "code",
      "metadata": {
        "id": "oxsEJC2lj_fs"
      },
      "source": [
        "def build_matrix(matrix_line):\n",
        "    matrix_line= [x.replace('\\n','' ) for x in matrix_line] \n",
        "    matrix = np.array([[int(i) for i in x] for x in matrix_line])\n",
        "    matrix= np.reshape(matrix,(55,108,1))\n",
        "    return matrix"
      ],
      "execution_count": 19,
      "outputs": []
    },
    {
      "cell_type": "code",
      "metadata": {
        "id": "4ecJHdgVkE3S"
      },
      "source": [
        "def build_data (filename,fault_list):\n",
        "    matrix_file= open(\"/content/drive/My Drive/PAR/\"+filename,\"r\")\n",
        "    matrix_lines = matrix_file.readlines()\n",
        "    matrix_file.close()\n",
        "    \n",
        "    matrix_lines = [line.replace(\"\\n\",\"\") for line in matrix_lines]\n",
        "    \n",
        "    \n",
        "    #initialisation\n",
        "    matrix_data = build_matrix(matrix_lines[1:56])\n",
        "    label_data = np.array([fault_list.index(matrix_lines[0])])\n",
        "    \n",
        "    for i in tqdm(range(56,len(matrix_lines),56)):\n",
        "        label_data = np.concatenate([label_data,np.array([fault_list.index(matrix_lines[i])])])\n",
        "        matrix = build_matrix(matrix_lines[i+1:i+56])\n",
        "        matrix_data=np.concatenate([matrix_data,matrix],axis=2)\n",
        "    \n",
        "    return matrix_data,label_data"
      ],
      "execution_count": 30,
      "outputs": []
    },
    {
      "cell_type": "markdown",
      "metadata": {
        "id": "K-k6onlEl2Wp"
      },
      "source": [
        "## **II. Contructions des données pour l'entrainement du modèle :**\n",
        "Dans cette partie, nous allons construire les tableaux de données avec les fonctions définies ci-dessus. Nous allons, dans un premier tableau, construire la base de données avec les matrices des fautes permanentes ainsi que les fautes intermittentes. Le deuxième tableau contiendra les labels de chaque matrice."
      ]
    },
    {
      "cell_type": "code",
      "metadata": {
        "id": "Van5VRVEpIO2"
      },
      "source": [
        "#building the right_matrix\n",
        "right_matrix_file=open('/content/drive/My Drive/PAR/right_matrix.txt',\"r\")\n",
        "right_matrix = build_matrix(right_matrix_file.readlines())\n",
        "right_matrix_file.close()"
      ],
      "execution_count": 24,
      "outputs": []
    },
    {
      "cell_type": "code",
      "metadata": {
        "id": "CZ9Y-Ou4pXIi"
      },
      "source": [
        "#building permanent_fault\n",
        "fault_list_file = open('/content/drive/My Drive/PAR/fault_matrix_file2.txt',\"r\")\n",
        "fault_list=fault_list_file.readlines()\n",
        "fault_list_file.close()\n",
        "fault_list = [fault_list[i].replace(\"\\n\",\"\") for i in range(0,len(fault_list),56)]\n",
        "permanent_fault_matrix,permanent_fault_label= build_data(\"fault_matrix_file2.txt\",fault_list)"
      ],
      "execution_count": null,
      "outputs": []
    },
    {
      "cell_type": "code",
      "metadata": {
        "colab": {
          "base_uri": "https://localhost:8080/"
        },
        "id": "-PlOon1h8cfI",
        "outputId": "971dfa53-7cf5-4430-f50e-3058cba3aba7"
      },
      "source": [
        "#building intermittent_fault matrix\n",
        "fault_list_file2 = open('/content/drive/My Drive/PAR/equivalent_fault.txt',\"r\")\n",
        "fault_list2=fault_list_file2.readlines()\n",
        "fault_list_file2.close()\n",
        "fault_list2 = [i.replace(\"\\n\",\"\") for i in fault_list2]\n",
        "\n",
        "intermittent_fault1_matrix,intermittent_fault1_label = build_data(\"intermittent_fault.txt\",fault_list2)\n",
        "intermittent_fault2_matrix,intermittent_fault2_label = build_data(\"intermittent_fault2.txt\",fault_list2)\n"
      ],
      "execution_count": null,
      "outputs": [
        {
          "output_type": "stream",
          "name": "stderr",
          "text": [
            " 17%|█▋        | 6895/40540 [05:28<46:57, 11.94it/s]"
          ]
        }
      ]
    },
    {
      "cell_type": "code",
      "metadata": {
        "id": "voeZC6y17IsQ"
      },
      "source": [
        "#Concatenating all faults in one matrix and label\n",
        "matrix_data = np.concatenate([permanent_fault_matrix,intermittent_fault1_matrix,intermittent_fault2_matrix],axis=2)\n",
        "labels = np.concatenate([permanent_fault_label,intermittent_fault1_label,intermittent_fault2_label])"
      ],
      "execution_count": null,
      "outputs": []
    }
  ]
}