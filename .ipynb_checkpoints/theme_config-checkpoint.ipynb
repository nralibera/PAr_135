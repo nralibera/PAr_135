{
 "cells": [
  {
   "cell_type": "code",
   "execution_count": null,
   "metadata": {},
   "outputs": [],
   "source": [
    "pip install jupyterthemes"
   ]
  },
  {
   "cell_type": "code",
   "execution_count": 1,
   "metadata": {},
   "outputs": [
    {
     "name": "stdout",
     "output_type": "stream",
     "text": [
      "Requirement already up-to-date: jupyterthemes in c:\\programdata\\anaconda3\\lib\\site-packages (0.20.0)\n",
      "Requirement already satisfied, skipping upgrade: notebook>=5.6.0 in c:\\programdata\\anaconda3\\lib\\site-packages (from jupyterthemes) (6.1.4)\n",
      "Requirement already satisfied, skipping upgrade: ipython>=5.4.1 in c:\\programdata\\anaconda3\\lib\\site-packages (from jupyterthemes) (7.19.0)\n",
      "Requirement already satisfied, skipping upgrade: jupyter-core in c:\\programdata\\anaconda3\\lib\\site-packages (from jupyterthemes) (4.6.3)\n",
      "Requirement already satisfied, skipping upgrade: matplotlib>=1.4.3 in c:\\programdata\\anaconda3\\lib\\site-packages (from jupyterthemes) (3.3.2)\n",
      "Requirement already satisfied, skipping upgrade: lesscpy>=0.11.2 in c:\\programdata\\anaconda3\\lib\\site-packages (from jupyterthemes) (0.15.0)\n",
      "Requirement already satisfied, skipping upgrade: argon2-cffi in c:\\programdata\\anaconda3\\lib\\site-packages (from notebook>=5.6.0->jupyterthemes) (20.1.0)\n",
      "Requirement already satisfied, skipping upgrade: prometheus-client in c:\\programdata\\anaconda3\\lib\\site-packages (from notebook>=5.6.0->jupyterthemes) (0.8.0)\n",
      "Requirement already satisfied, skipping upgrade: jupyter-client>=5.3.4 in c:\\programdata\\anaconda3\\lib\\site-packages (from notebook>=5.6.0->jupyterthemes) (6.1.7)\n",
      "Requirement already satisfied, skipping upgrade: ipython-genutils in c:\\programdata\\anaconda3\\lib\\site-packages (from notebook>=5.6.0->jupyterthemes) (0.2.0)\n",
      "Requirement already satisfied, skipping upgrade: traitlets>=4.2.1 in c:\\programdata\\anaconda3\\lib\\site-packages (from notebook>=5.6.0->jupyterthemes) (5.0.5)\n",
      "Requirement already satisfied, skipping upgrade: ipykernel in c:\\programdata\\anaconda3\\lib\\site-packages (from notebook>=5.6.0->jupyterthemes) (5.3.4)\n",
      "Requirement already satisfied, skipping upgrade: tornado>=5.0 in c:\\programdata\\anaconda3\\lib\\site-packages (from notebook>=5.6.0->jupyterthemes) (6.0.4)\n",
      "Requirement already satisfied, skipping upgrade: pyzmq>=17 in c:\\programdata\\anaconda3\\lib\\site-packages (from notebook>=5.6.0->jupyterthemes) (19.0.2)\n",
      "Requirement already satisfied, skipping upgrade: jinja2 in c:\\programdata\\anaconda3\\lib\\site-packages (from notebook>=5.6.0->jupyterthemes) (2.11.2)\n",
      "Requirement already satisfied, skipping upgrade: nbconvert in c:\\programdata\\anaconda3\\lib\\site-packages (from notebook>=5.6.0->jupyterthemes) (6.0.7)\n",
      "Requirement already satisfied, skipping upgrade: Send2Trash in c:\\programdata\\anaconda3\\lib\\site-packages (from notebook>=5.6.0->jupyterthemes) (1.5.0)\n",
      "Requirement already satisfied, skipping upgrade: terminado>=0.8.3 in c:\\programdata\\anaconda3\\lib\\site-packages (from notebook>=5.6.0->jupyterthemes) (0.9.1)\n",
      "Requirement already satisfied, skipping upgrade: nbformat in c:\\programdata\\anaconda3\\lib\\site-packages (from notebook>=5.6.0->jupyterthemes) (5.0.8)\n",
      "Requirement already satisfied, skipping upgrade: jedi>=0.10 in c:\\programdata\\anaconda3\\lib\\site-packages (from ipython>=5.4.1->jupyterthemes) (0.17.1)\n",
      "Requirement already satisfied, skipping upgrade: decorator in c:\\programdata\\anaconda3\\lib\\site-packages (from ipython>=5.4.1->jupyterthemes) (4.4.2)\n",
      "Requirement already satisfied, skipping upgrade: backcall in c:\\programdata\\anaconda3\\lib\\site-packages (from ipython>=5.4.1->jupyterthemes) (0.2.0)\n",
      "Requirement already satisfied, skipping upgrade: prompt-toolkit!=3.0.0,!=3.0.1,<3.1.0,>=2.0.0 in c:\\programdata\\anaconda3\\lib\\site-packages (from ipython>=5.4.1->jupyterthemes) (3.0.8)\n",
      "Requirement already satisfied, skipping upgrade: setuptools>=18.5 in c:\\programdata\\anaconda3\\lib\\site-packages (from ipython>=5.4.1->jupyterthemes) (50.3.1.post20201107)\n",
      "Requirement already satisfied, skipping upgrade: colorama; sys_platform == \"win32\" in c:\\programdata\\anaconda3\\lib\\site-packages (from ipython>=5.4.1->jupyterthemes) (0.4.4)\n",
      "Requirement already satisfied, skipping upgrade: pickleshare in c:\\programdata\\anaconda3\\lib\\site-packages (from ipython>=5.4.1->jupyterthemes) (0.7.5)\n",
      "Requirement already satisfied, skipping upgrade: pygments in c:\\programdata\\anaconda3\\lib\\site-packages (from ipython>=5.4.1->jupyterthemes) (2.7.2)\n",
      "Requirement already satisfied, skipping upgrade: pywin32>=1.0; sys_platform == \"win32\" in c:\\programdata\\anaconda3\\lib\\site-packages (from jupyter-core->jupyterthemes) (227)\n",
      "Requirement already satisfied, skipping upgrade: pillow>=6.2.0 in c:\\programdata\\anaconda3\\lib\\site-packages (from matplotlib>=1.4.3->jupyterthemes) (8.0.1)\n",
      "Requirement already satisfied, skipping upgrade: python-dateutil>=2.1 in c:\\programdata\\anaconda3\\lib\\site-packages (from matplotlib>=1.4.3->jupyterthemes) (2.8.1)\n",
      "Requirement already satisfied, skipping upgrade: kiwisolver>=1.0.1 in c:\\programdata\\anaconda3\\lib\\site-packages (from matplotlib>=1.4.3->jupyterthemes) (1.3.0)\n",
      "Requirement already satisfied, skipping upgrade: pyparsing!=2.0.4,!=2.1.2,!=2.1.6,>=2.0.3 in c:\\programdata\\anaconda3\\lib\\site-packages (from matplotlib>=1.4.3->jupyterthemes) (2.4.7)\n",
      "Requirement already satisfied, skipping upgrade: certifi>=2020.06.20 in c:\\programdata\\anaconda3\\lib\\site-packages (from matplotlib>=1.4.3->jupyterthemes) (2020.6.20)\n",
      "Requirement already satisfied, skipping upgrade: cycler>=0.10 in c:\\programdata\\anaconda3\\lib\\site-packages (from matplotlib>=1.4.3->jupyterthemes) (0.10.0)\n",
      "Requirement already satisfied, skipping upgrade: numpy>=1.15 in c:\\programdata\\anaconda3\\lib\\site-packages (from matplotlib>=1.4.3->jupyterthemes) (1.19.2)\n",
      "Requirement already satisfied, skipping upgrade: ply in c:\\programdata\\anaconda3\\lib\\site-packages (from lesscpy>=0.11.2->jupyterthemes) (3.11)\n",
      "Requirement already satisfied, skipping upgrade: six in c:\\programdata\\anaconda3\\lib\\site-packages (from lesscpy>=0.11.2->jupyterthemes) (1.15.0)\n",
      "Requirement already satisfied, skipping upgrade: cffi>=1.0.0 in c:\\programdata\\anaconda3\\lib\\site-packages (from argon2-cffi->notebook>=5.6.0->jupyterthemes) (1.14.3)\n",
      "Requirement already satisfied, skipping upgrade: MarkupSafe>=0.23 in c:\\programdata\\anaconda3\\lib\\site-packages (from jinja2->notebook>=5.6.0->jupyterthemes) (1.1.1)\n",
      "Requirement already satisfied, skipping upgrade: jupyterlab-pygments in c:\\programdata\\anaconda3\\lib\\site-packages (from nbconvert->notebook>=5.6.0->jupyterthemes) (0.1.2)\n",
      "Requirement already satisfied, skipping upgrade: bleach in c:\\programdata\\anaconda3\\lib\\site-packages (from nbconvert->notebook>=5.6.0->jupyterthemes) (3.2.1)\n",
      "Requirement already satisfied, skipping upgrade: pandocfilters>=1.4.1 in c:\\programdata\\anaconda3\\lib\\site-packages (from nbconvert->notebook>=5.6.0->jupyterthemes) (1.4.3)\n",
      "Requirement already satisfied, skipping upgrade: entrypoints>=0.2.2 in c:\\programdata\\anaconda3\\lib\\site-packages (from nbconvert->notebook>=5.6.0->jupyterthemes) (0.3)\n",
      "Requirement already satisfied, skipping upgrade: nbclient<0.6.0,>=0.5.0 in c:\\programdata\\anaconda3\\lib\\site-packages (from nbconvert->notebook>=5.6.0->jupyterthemes) (0.5.1)\n",
      "Requirement already satisfied, skipping upgrade: testpath in c:\\programdata\\anaconda3\\lib\\site-packages (from nbconvert->notebook>=5.6.0->jupyterthemes) (0.4.4)\n",
      "Requirement already satisfied, skipping upgrade: mistune<2,>=0.8.1 in c:\\programdata\\anaconda3\\lib\\site-packages (from nbconvert->notebook>=5.6.0->jupyterthemes) (0.8.4)\n",
      "Requirement already satisfied, skipping upgrade: defusedxml in c:\\programdata\\anaconda3\\lib\\site-packages (from nbconvert->notebook>=5.6.0->jupyterthemes) (0.6.0)\n",
      "Requirement already satisfied, skipping upgrade: pywinpty>=0.5 in c:\\programdata\\anaconda3\\lib\\site-packages (from terminado>=0.8.3->notebook>=5.6.0->jupyterthemes) (0.5.7)\n",
      "Requirement already satisfied, skipping upgrade: jsonschema!=2.5.0,>=2.4 in c:\\programdata\\anaconda3\\lib\\site-packages (from nbformat->notebook>=5.6.0->jupyterthemes) (3.2.0)\n",
      "Requirement already satisfied, skipping upgrade: parso<0.8.0,>=0.7.0 in c:\\programdata\\anaconda3\\lib\\site-packages (from jedi>=0.10->ipython>=5.4.1->jupyterthemes) (0.7.0)\n",
      "Requirement already satisfied, skipping upgrade: wcwidth in c:\\programdata\\anaconda3\\lib\\site-packages (from prompt-toolkit!=3.0.0,!=3.0.1,<3.1.0,>=2.0.0->ipython>=5.4.1->jupyterthemes) (0.2.5)\n",
      "Requirement already satisfied, skipping upgrade: pycparser in c:\\programdata\\anaconda3\\lib\\site-packages (from cffi>=1.0.0->argon2-cffi->notebook>=5.6.0->jupyterthemes) (2.20)\n",
      "Requirement already satisfied, skipping upgrade: packaging in c:\\programdata\\anaconda3\\lib\\site-packages (from bleach->nbconvert->notebook>=5.6.0->jupyterthemes) (20.4)\n",
      "Requirement already satisfied, skipping upgrade: webencodings in c:\\programdata\\anaconda3\\lib\\site-packages (from bleach->nbconvert->notebook>=5.6.0->jupyterthemes) (0.5.1)\n",
      "Requirement already satisfied, skipping upgrade: nest-asyncio in c:\\programdata\\anaconda3\\lib\\site-packages (from nbclient<0.6.0,>=0.5.0->nbconvert->notebook>=5.6.0->jupyterthemes) (1.4.2)\n",
      "Requirement already satisfied, skipping upgrade: async-generator in c:\\programdata\\anaconda3\\lib\\site-packages (from nbclient<0.6.0,>=0.5.0->nbconvert->notebook>=5.6.0->jupyterthemes) (1.10)\n",
      "Requirement already satisfied, skipping upgrade: pyrsistent>=0.14.0 in c:\\programdata\\anaconda3\\lib\\site-packages (from jsonschema!=2.5.0,>=2.4->nbformat->notebook>=5.6.0->jupyterthemes) (0.17.3)\n",
      "Requirement already satisfied, skipping upgrade: attrs>=17.4.0 in c:\\programdata\\anaconda3\\lib\\site-packages (from jsonschema!=2.5.0,>=2.4->nbformat->notebook>=5.6.0->jupyterthemes) (20.3.0)\n",
      "Note: you may need to restart the kernel to use updated packages.\n"
     ]
    }
   ],
   "source": [
    "pip install --upgrade jupyterthemes"
   ]
  },
  {
   "cell_type": "code",
   "execution_count": 2,
   "metadata": {},
   "outputs": [],
   "source": [
    "!jt -t chesterish"
   ]
  }
 ],
 "metadata": {
  "kernelspec": {
   "display_name": "Python 3",
   "language": "python",
   "name": "python3"
  },
  "language_info": {
   "codemirror_mode": {
    "name": "ipython",
    "version": 3
   },
   "file_extension": ".py",
   "mimetype": "text/x-python",
   "name": "python",
   "nbconvert_exporter": "python",
   "pygments_lexer": "ipython3",
   "version": "3.8.5"
  }
 },
 "nbformat": 4,
 "nbformat_minor": 4
}
